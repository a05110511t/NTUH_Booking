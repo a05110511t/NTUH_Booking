{
 "cells": [
  {
   "cell_type": "code",
   "execution_count": 1,
   "metadata": {
    "scrolled": true
   },
   "outputs": [],
   "source": [
    "#coding=utf-8\n",
    "import requests, hashlib, urlparse, time, string, base64, sys, threading\n",
    "from bs4 import BeautifulSoup\n",
    "data = ''\n",
    "cookies = 0\n"
   ]
  },
  {
   "cell_type": "code",
   "execution_count": 2,
   "metadata": {},
   "outputs": [],
   "source": [
    "def url_decode(url):\n",
    "    #url = \"https://reg.ntuh.gov.tw/WebAdministration/RegistForm.aspx?newx=UwBlAHIAdgBpAGMAZQBJAEQAUwBFAD0ANAAwADkANQAxADgAOQAmAEUAbgBjAHIAeQBwAHQAQwBvAGQAZQA9AFQAMABTAFUAUgBHADEAMwAyADAAMgAwADAAMwAyADAAJgB1AHMAZQBEAHIAUgBlAHMAdABDAG4AdAA9AG4A0\"\n",
    "    url_p = urlparse.urlparse(url).query[5:]\n",
    "    print \"url_p:\", url_p\n",
    "    print \"----------------------------------------\"\n",
    "    \n",
    "    if url_p[-1:] == '0':\n",
    "        parameter = base64.b64decode(url_p[:-1]).decode('utf-8')\n",
    "        #print \"parameter:\",parameter\n",
    "        #print \"parameter:\", parameter.split('&')\n",
    "        parameter = parameter.encode('base64')+'0'\n",
    "        new_url = \"https://reg.ntuh.gov.tw/WebAdministration/RegistForm.aspx?newx=\" + parameter\n",
    "        print \"\\nThis URL is:\\n\", new_url.replace('\\n','')\n",
    "        print \"----------------------------------------\\n\"\n",
    "    if url_p[-1:] == '2':\n",
    "        parameter = base64.b64decode(url_p+\"=\").decode('utf-8')\n",
    "        #print \"parameter:\",parameter\n",
    "        #print \"parameter:\", parameter.split('&')\n",
    "        parameter = parameter.encode('base64')+'0'\n",
    "        new_url = \"https://reg.ntuh.gov.tw/WebAdministration/RegistForm.aspx?newx=\" + parameter\n",
    "        print \"\\nThis URL is:\\n\", new_url.replace('\\n','')\n",
    "        print \"----------------------------------------\\n\"\n",
    "    \n",
    "    \n",
    "    for j in range(1):\n",
    "            r = requests.get(new_url.replace('\\n',''), data = data, cookies=cookies)\n",
    "            soup = BeautifulSoup(r.text, \"html.parser\")\n",
    "            #print soup.text\n",
    "            if soup.find(id=\"ShowTime\").text:\n",
    "                print \"Web Check:\\n\", soup.find(id=\"ShowTime\").text, \"\\n\", new_url.replace('\\n','')\n",
    "                print \"----------------------------------------\\n\"\n",
    "                break\n",
    "            else:\n",
    "                continue\n",
    "\n"
   ]
  },
  {
   "cell_type": "code",
   "execution_count": 3,
   "metadata": {
    "scrolled": false
   },
   "outputs": [],
   "source": [
    "def url_remake(url):\n",
    "    url_p = urlparse.urlparse(url).query[5:]\n",
    "    if url_p[-1:] == '0':\n",
    "        parameter = base64.b64decode(url_p[:-1])\n",
    "        print \"parameter:\",parameter.replace('\\x00','')\n",
    "        print \"parameter:\",parameter.replace('\\x00','').split('&')\n",
    "    if url_p[-1:] == '2':\n",
    "        parameter = base64.b64decode(url_p+\"=\").decode('utf-8')\n",
    "        print \"parameter:\",parameter.replace('\\x00','')\n",
    "        print \"parameter:\",parameter.replace('\\x00','').split('&')\n",
    "        print \"parameter:\",parameter.split('&')\n",
    "    print \"----------------------------------------\\n\"\n",
    "   \n",
    "\n",
    "    ServiceIDSE = int(parameter.replace('\\x00','').split('&')[0][12:],)\n",
    "    EncryptCode = str(parameter.replace('\\x00','').split('&')[1][12:],)\n",
    "    useDrRestCnt = str(parameter.replace('\\x00','').split('&')[2][13:],)\n",
    "    print \"ServiceIDSE:\", ServiceIDSE\n",
    "    print \"EncryptCode:\", EncryptCode[:8] + dateyouwant\n",
    "    print \"useDrRestCnt:\", useDrRestCnt[0]\n",
    "    \n",
    "    ServiceIDSE+=ServiceIDSE_guess ### Gap Number\n",
    "    \n",
    "\n",
    "    #Bruteforce\n",
    "    for i in xrange(1,10000):\n",
    "        ServiceIDSE = ServiceIDSE+1\n",
    "        parameter = \"ServiceIDSE=\" + str(ServiceIDSE) + \"&EncryptCode=\" +  (EncryptCode[:8] + dateyouwant) + \"&useDrRestCnt=\" + useDrRestCnt[0]\n",
    "        parameter = \"\\x00\".join(parameter)\n",
    "        parameter += \"\\x00\\r\\n\\r\" \n",
    "        parameter_detail = parameter\n",
    "        parameter = base64.b64encode(parameter).replace('0=','2')+'0'\n",
    "        #print \"parameter_b64:\", parameter    \n",
    "        new_url = \"https://reg.ntuh.gov.tw/WebAdministration/RegistForm.aspx?newx=\" + parameter\n",
    "        #print \"\\n\",new_url.replace('\\n','')\n",
    "\n",
    "        time.sleep(0.1)\n",
    "        #sys.stdout.write(\"\\r%d%%\" % i)\n",
    "        sys.stdout.write(\"\\rServiceIDSE= %s\" % ServiceIDSE)\n",
    "        sys.stdout.flush()\n",
    "\n",
    "        for j in range(1):\n",
    "            r = requests.get(new_url.replace('\\n',''), data = data, cookies=cookies)\n",
    "            soup = BeautifulSoup(r.text, \"html.parser\")\n",
    "            #print soup.text\n",
    "            if soup.find(id=\"ShowTime\").text:\n",
    "                print \"\\n################Successful######################\" \n",
    "                print soup.find(id=\"ShowTime\").text\n",
    "                print \"parameter:\", parameter_detail\n",
    "                print \"Next URL is:\", new_url.replace('\\n','')\n",
    "                print \"\\n###################################################\" \n",
    "                return\n",
    "            else:\n",
    "                break\n"
   ]
  },
  {
   "cell_type": "code",
   "execution_count": 5,
   "metadata": {
    "scrolled": true
   },
   "outputs": [
    {
     "name": "stdout",
     "output_type": "stream",
     "text": [
      "url_p: UwBlAHIAdgBpAGMAZQBJAEQAUwBFAD0ANAAxADEAOAA0ADQAOAAmAEUAbgBjAHIAeQBwAHQAQwBvAGQAZQA9AFQAMABEAEUATgBUADAAOQAyADAAMgAwADAANAAwADgAJgB1AHMAZQBEAHIAUgBlAHMAdABDAG4AdAA9AA2\n",
      "----------------------------------------\n",
      "\n",
      "This URL is:\n",
      "https://reg.ntuh.gov.tw/WebAdministration/RegistForm.aspx?newx=UwBlAHIAdgBpAGMAZQBJAEQAUwBFAD0ANAAxADEAOAA0ADQAOAAmAEUAbgBjAHIAeQBwAHQAQwBvAGQAZQA9AFQAMABEAEUATgBUADAAOQAyADAAMgAwADAANAAwADgAJgB1AHMAZQBEAHIAUgBlAHMAdABDAG4AdAA9AA0=0\n",
      "----------------------------------------\n",
      "\n",
      "Web Check:\n",
      "109.4.8 星期三 下午 \n",
      "https://reg.ntuh.gov.tw/WebAdministration/RegistForm.aspx?newx=UwBlAHIAdgBpAGMAZQBJAEQAUwBFAD0ANAAxADEAOAA0ADQAOAAmAEUAbgBjAHIAeQBwAHQAQwBvAGQAZQA9AFQAMABEAEUATgBUADAAOQAyADAAMgAwADAANAAwADgAJgB1AHMAZQBEAHIAUgBlAHMAdABDAG4AdAA9AA0=0\n",
      "----------------------------------------\n",
      "\n",
      "請輸入想掛號的日期：20200415\n",
      "Guess Gap Number (Min=0):0\n",
      "parameter: ServiceIDSE=4118448&EncryptCode=T0DENT0920200408&useDrRestCnt=\n",
      "parameter: [u'ServiceIDSE=4118448', u'EncryptCode=T0DENT0920200408', u'useDrRestCnt=\\r']\n",
      "parameter: [u'S\\x00e\\x00r\\x00v\\x00i\\x00c\\x00e\\x00I\\x00D\\x00S\\x00E\\x00=\\x004\\x001\\x001\\x008\\x004\\x004\\x008\\x00', u'\\x00E\\x00n\\x00c\\x00r\\x00y\\x00p\\x00t\\x00C\\x00o\\x00d\\x00e\\x00=\\x00T\\x000\\x00D\\x00E\\x00N\\x00T\\x000\\x009\\x002\\x000\\x002\\x000\\x000\\x004\\x000\\x008\\x00', u'\\x00u\\x00s\\x00e\\x00D\\x00r\\x00R\\x00e\\x00s\\x00t\\x00C\\x00n\\x00t\\x00=\\x00\\r']\n",
      "----------------------------------------\n",
      "\n",
      "ServiceIDSE: 4118448\n",
      "EncryptCode: T0DENT0920200415\n",
      "useDrRestCnt: \n",
      "ServiceIDSE= 4126026\n",
      "################Successful######################\n",
      "109.4.15 星期三 下午\n",
      "\u0000arameter: S\u0000e\u0000r\u0000v\u0000i\u0000c\u0000e\u0000I\u0000D\u0000S\u0000E\u0000=\u00004\u00001\u00002\u00006\u00000\u00002\u00006\u0000&\u0000E\u0000n\u0000c\u0000r\u0000y\u0000p\u0000t\u0000C\u0000o\u0000d\u0000e\u0000=\u0000T\u00000\u0000D\u0000E\u0000N\u0000T\u00000\u00009\u00002\u00000\u00002\u00000\u00000\u00004\u00001\u00005\u0000&\u0000u\u0000s\u0000e\u0000D\u0000r\u0000R\u0000e\u0000s\u0000t\u0000C\u0000n\u0000t\u0000=\u0000\n",
      "\n",
      "Next URL is: https://reg.ntuh.gov.tw/WebAdministration/RegistForm.aspx?newx=UwBlAHIAdgBpAGMAZQBJAEQAUwBFAD0ANAAxADIANgAwADIANgAmAEUAbgBjAHIAeQBwAHQAQwBvAGQAZQA9AFQAMABEAEUATgBUADAAOQAyADAAMgAwADAANAAxADUAJgB1AHMAZQBEAHIAUgBlAHMAdABDAG4AdAA9AA0ADQoN0\n",
      "\n",
      "###################################################\n"
     ]
    }
   ],
   "source": [
    "#url=str(input('請輸入想掛的醫生網址：'))\n",
    "url=\"https://reg.ntuh.gov.tw/webadministration/RegistForm.aspx?newx=UwBlAHIAdgBpAGMAZQBJAEQAUwBFAD0ANAAxADEAOAA0ADQAOAAmAEUAbgBjAHIAeQBwAHQAQwBvAGQAZQA9AFQAMABEAEUATgBUADAAOQAyADAAMgAwADAANAAwADgAJgB1AHMAZQBEAHIAUgBlAHMAdABDAG4AdAA9AA2\"\n",
    "url_decode(url)\n",
    "dateyouwant=str(input('請輸入想掛號的日期：'))\n",
    "ServiceIDSE_guess = int(input('Guess Gap Number (Min=0):'))\n",
    "url_remake(url)\n",
    "#threading.Thread(target=url_remake, args=(url, )).start("
   ]
  },
  {
   "cell_type": "code",
   "execution_count": 6,
   "metadata": {
    "scrolled": true
   },
   "outputs": [
    {
     "name": "stdout",
     "output_type": "stream",
     "text": [
      "url_p: UwBlAHIAdgBpAGMAZQBJAEQAUwBFAD0ANAAxADIANgAwADIANgAmAEUAbgBjAHIAeQBwAHQAQwBvAGQAZQA9AFQAMABEAEUATgBUADAAOQAyADAAMgAwADAANAAxADUAJgB1AHMAZQBEAHIAUgBlAHMAdABDAG4AdAA9AA0ADQoN0\n",
      "----------------------------------------\n",
      "\n",
      "This URL is:\n",
      "https://reg.ntuh.gov.tw/WebAdministration/RegistForm.aspx?newx=UwBlAHIAdgBpAGMAZQBJAEQAUwBFAD0ANAAxADIANgAwADIANgAmAEUAbgBjAHIAeQBwAHQAQwBvAGQAZQA9AFQAMABEAEUATgBUADAAOQAyADAAMgAwADAANAAxADUAJgB1AHMAZQBEAHIAUgBlAHMAdABDAG4AdAA9AA0ADQoN0\n",
      "----------------------------------------\n",
      "\n",
      "Web Check:\n",
      "109.4.15 星期三 下午 \n",
      "https://reg.ntuh.gov.tw/WebAdministration/RegistForm.aspx?newx=UwBlAHIAdgBpAGMAZQBJAEQAUwBFAD0ANAAxADIANgAwADIANgAmAEUAbgBjAHIAeQBwAHQAQwBvAGQAZQA9AFQAMABEAEUATgBUADAAOQAyADAAMgAwADAANAAxADUAJgB1AHMAZQBEAHIAUgBlAHMAdABDAG4AdAA9AA0ADQoN0\n",
      "----------------------------------------\n",
      "\n",
      "請輸入想掛號的日期：20200422\n",
      "Guess Gap Number (Min=0):7000\n",
      "parameter: ServiceIDSE=4126026&EncryptCode=T0DENT0920200415&useDrRestCnt=\n",
      "\n",
      "parameter: ['ServiceIDSE=4126026', 'EncryptCode=T0DENT0920200415', 'useDrRestCnt=\\r\\r\\n\\r']\n",
      "----------------------------------------\n",
      "\n",
      "ServiceIDSE: 4126026\n",
      "EncryptCode: T0DENT0920200422\n",
      "useDrRestCnt: \n",
      "ServiceIDSE= 4134406\n",
      "################Successful######################\n",
      "109.4.22 星期三 下午\n",
      "\u0000arameter: S\u0000e\u0000r\u0000v\u0000i\u0000c\u0000e\u0000I\u0000D\u0000S\u0000E\u0000=\u00004\u00001\u00003\u00004\u00004\u00000\u00006\u0000&\u0000E\u0000n\u0000c\u0000r\u0000y\u0000p\u0000t\u0000C\u0000o\u0000d\u0000e\u0000=\u0000T\u00000\u0000D\u0000E\u0000N\u0000T\u00000\u00009\u00002\u00000\u00002\u00000\u00000\u00004\u00002\u00002\u0000&\u0000u\u0000s\u0000e\u0000D\u0000r\u0000R\u0000e\u0000s\u0000t\u0000C\u0000n\u0000t\u0000=\u0000\n",
      "\n",
      "Next URL is: https://reg.ntuh.gov.tw/WebAdministration/RegistForm.aspx?newx=UwBlAHIAdgBpAGMAZQBJAEQAUwBFAD0ANAAxADMANAA0ADAANgAmAEUAbgBjAHIAeQBwAHQAQwBvAGQAZQA9AFQAMABEAEUATgBUADAAOQAyADAAMgAwADAANAAyADIAJgB1AHMAZQBEAHIAUgBlAHMAdABDAG4AdAA9AA0ADQoN0\n",
      "\n",
      "###################################################\n"
     ]
    }
   ],
   "source": [
    "url= \"https://reg.ntuh.gov.tw/WebAdministration/RegistForm.aspx?newx=UwBlAHIAdgBpAGMAZQBJAEQAUwBFAD0ANAAxADIANgAwADIANgAmAEUAbgBjAHIAeQBwAHQAQwBvAGQAZQA9AFQAMABEAEUATgBUADAAOQAyADAAMgAwADAANAAxADUAJgB1AHMAZQBEAHIAUgBlAHMAdABDAG4AdAA9AA0ADQoN0\"\n",
    "url_decode(url)\n",
    "dateyouwant=str(input('請輸入想掛號的日期：'))\n",
    "ServiceIDSE_guess = int(input('Guess Gap Number (Min=0):'))\n",
    "url_remake(url)\n"
   ]
  },
  {
   "cell_type": "code",
   "execution_count": null,
   "metadata": {},
   "outputs": [],
   "source": []
  }
 ],
 "metadata": {
  "kernelspec": {
   "display_name": "Python 2",
   "language": "python",
   "name": "python2"
  },
  "language_info": {
   "codemirror_mode": {
    "name": "ipython",
    "version": 2
   },
   "file_extension": ".py",
   "mimetype": "text/x-python",
   "name": "python",
   "nbconvert_exporter": "python",
   "pygments_lexer": "ipython2",
   "version": "2.7.17"
  }
 },
 "nbformat": 4,
 "nbformat_minor": 2
}
